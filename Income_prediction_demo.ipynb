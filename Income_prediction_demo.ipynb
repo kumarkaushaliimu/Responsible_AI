{
  "nbformat": 4,
  "nbformat_minor": 0,
  "metadata": {
    "colab": {
      "provenance": []
    },
    "kernelspec": {
      "name": "python3",
      "display_name": "Python 3"
    },
    "language_info": {
      "name": "python"
    }
  },
  "cells": [
    {
      "cell_type": "code",
      "execution_count": 1,
      "metadata": {
        "colab": {
          "base_uri": "https://localhost:8080/"
        },
        "id": "IA9HxGxbIu9N",
        "outputId": "a23bda5b-f304-4d25-a975-8c30ef9356f7"
      },
      "outputs": [
        {
          "output_type": "stream",
          "name": "stdout",
          "text": [
            "Looking in indexes: https://pypi.org/simple, https://us-python.pkg.dev/colab-wheels/public/simple/\n",
            "Collecting raiwidgets\n",
            "  Downloading raiwidgets-0.28.0-py3-none-any.whl (2.4 MB)\n",
            "\u001b[2K     \u001b[90m━━━━━━━━━━━━━━━━━━━━━━━━━━━━━━━━━━━━━━━━\u001b[0m \u001b[32m2.4/2.4 MB\u001b[0m \u001b[31m24.0 MB/s\u001b[0m eta \u001b[36m0:00:00\u001b[0m\n",
            "\u001b[?25hRequirement already satisfied: numpy<1.24.0,>=1.17.2 in /usr/local/lib/python3.10/dist-packages (from raiwidgets) (1.22.4)\n",
            "Requirement already satisfied: pandas<2.0.0,>=0.25.1 in /usr/local/lib/python3.10/dist-packages (from raiwidgets) (1.5.3)\n",
            "Requirement already satisfied: scipy>=1.4.1 in /usr/local/lib/python3.10/dist-packages (from raiwidgets) (1.10.1)\n",
            "Collecting rai-core-flask==0.6.0 (from raiwidgets)\n",
            "  Downloading rai_core_flask-0.6.0-py3-none-any.whl (11 kB)\n",
            "Requirement already satisfied: itsdangerous<=2.1.2 in /usr/local/lib/python3.10/dist-packages (from raiwidgets) (2.1.2)\n",
            "Requirement already satisfied: scikit-learn>=0.22.1 in /usr/local/lib/python3.10/dist-packages (from raiwidgets) (1.2.2)\n",
            "Requirement already satisfied: lightgbm>=2.0.11 in /usr/local/lib/python3.10/dist-packages (from raiwidgets) (3.3.5)\n",
            "Collecting erroranalysis>=0.4.4 (from raiwidgets)\n",
            "  Downloading erroranalysis-0.4.4-py3-none-any.whl (39 kB)\n",
            "Collecting fairlearn>=0.7.0 (from raiwidgets)\n",
            "  Downloading fairlearn-0.8.0-py3-none-any.whl (235 kB)\n",
            "\u001b[2K     \u001b[90m━━━━━━━━━━━━━━━━━━━━━━━━━━━━━━━━━━━━━━\u001b[0m \u001b[32m235.0/235.0 kB\u001b[0m \u001b[31m21.8 MB/s\u001b[0m eta \u001b[36m0:00:00\u001b[0m\n",
            "\u001b[?25hCollecting raiutils>=0.4.0 (from raiwidgets)\n",
            "  Downloading raiutils-0.4.0-py3-none-any.whl (17 kB)\n",
            "Collecting responsibleai==0.28.0 (from raiwidgets)\n",
            "  Downloading responsibleai-0.28.0-py3-none-any.whl (150 kB)\n",
            "\u001b[2K     \u001b[90m━━━━━━━━━━━━━━━━━━━━━━━━━━━━━━━━━━━━━━\u001b[0m \u001b[32m150.5/150.5 kB\u001b[0m \u001b[31m10.5 MB/s\u001b[0m eta \u001b[36m0:00:00\u001b[0m\n",
            "\u001b[?25hRequirement already satisfied: Flask in /usr/local/lib/python3.10/dist-packages (from rai-core-flask==0.6.0->raiwidgets) (2.2.4)\n",
            "Collecting Flask-Cors (from rai-core-flask==0.6.0->raiwidgets)\n",
            "  Downloading Flask_Cors-3.0.10-py2.py3-none-any.whl (14 kB)\n",
            "Requirement already satisfied: greenlet>=1.1.2 in /usr/local/lib/python3.10/dist-packages (from rai-core-flask==0.6.0->raiwidgets) (2.0.2)\n",
            "Collecting gevent>=21.12.0 (from rai-core-flask==0.6.0->raiwidgets)\n",
            "  Downloading gevent-22.10.2-cp310-cp310-manylinux_2_17_x86_64.manylinux2014_x86_64.whl (6.4 MB)\n",
            "\u001b[2K     \u001b[90m━━━━━━━━━━━━━━━━━━━━━━━━━━━━━━━━━━━━━━━━\u001b[0m \u001b[32m6.4/6.4 MB\u001b[0m \u001b[31m82.0 MB/s\u001b[0m eta \u001b[36m0:00:00\u001b[0m\n",
            "\u001b[?25hRequirement already satisfied: markupsafe<=2.1.2 in /usr/local/lib/python3.10/dist-packages (from rai-core-flask==0.6.0->raiwidgets) (2.1.2)\n",
            "Collecting Werkzeug<=2.2.3 (from rai-core-flask==0.6.0->raiwidgets)\n",
            "  Downloading Werkzeug-2.2.3-py3-none-any.whl (233 kB)\n",
            "\u001b[2K     \u001b[90m━━━━━━━━━━━━━━━━━━━━━━━━━━━━━━━━━━━━━━\u001b[0m \u001b[32m233.6/233.6 kB\u001b[0m \u001b[31m24.8 MB/s\u001b[0m eta \u001b[36m0:00:00\u001b[0m\n",
            "\u001b[?25hRequirement already satisfied: ipython>=7.31.1 in /usr/local/lib/python3.10/dist-packages (from rai-core-flask==0.6.0->raiwidgets) (7.34.0)\n",
            "Collecting dice-ml<0.10,>=0.9 (from responsibleai==0.28.0->raiwidgets)\n",
            "  Downloading dice_ml-0.9-py3-none-any.whl (2.6 MB)\n",
            "\u001b[2K     \u001b[90m━━━━━━━━━━━━━━━━━━━━━━━━━━━━━━━━━━━━━━━━\u001b[0m \u001b[32m2.6/2.6 MB\u001b[0m \u001b[31m65.4 MB/s\u001b[0m eta \u001b[36m0:00:00\u001b[0m\n",
            "\u001b[?25hCollecting econml>=0.14.0 (from responsibleai==0.28.0->raiwidgets)\n",
            "  Downloading econml-0.14.1-cp310-cp310-manylinux_2_17_x86_64.manylinux2014_x86_64.whl (3.5 MB)\n",
            "\u001b[2K     \u001b[90m━━━━━━━━━━━━━━━━━━━━━━━━━━━━━━━━━━━━━━━━\u001b[0m \u001b[32m3.5/3.5 MB\u001b[0m \u001b[31m85.2 MB/s\u001b[0m eta \u001b[36m0:00:00\u001b[0m\n",
            "\u001b[?25hRequirement already satisfied: statsmodels<0.14.0 in /usr/local/lib/python3.10/dist-packages (from responsibleai==0.28.0->raiwidgets) (0.13.5)\n",
            "Requirement already satisfied: jsonschema in /usr/local/lib/python3.10/dist-packages (from responsibleai==0.28.0->raiwidgets) (4.3.3)\n",
            "Collecting interpret-community>=0.29.0 (from responsibleai==0.28.0->raiwidgets)\n",
            "  Downloading interpret_community-0.29.0-py3-none-any.whl (130 kB)\n",
            "\u001b[2K     \u001b[90m━━━━━━━━━━━━━━━━━━━━━━━━━━━━━━━━━━━━━━\u001b[0m \u001b[32m130.3/130.3 kB\u001b[0m \u001b[31m13.4 MB/s\u001b[0m eta \u001b[36m0:00:00\u001b[0m\n",
            "\u001b[?25hCollecting numba<=0.55.2 (from responsibleai==0.28.0->raiwidgets)\n",
            "  Downloading numba-0.55.2-cp310-cp310-manylinux2014_x86_64.manylinux_2_17_x86_64.whl (3.4 MB)\n",
            "\u001b[2K     \u001b[90m━━━━━━━━━━━━━━━━━━━━━━━━━━━━━━━━━━━━━━━━\u001b[0m \u001b[32m3.4/3.4 MB\u001b[0m \u001b[31m78.2 MB/s\u001b[0m eta \u001b[36m0:00:00\u001b[0m\n",
            "\u001b[?25hCollecting scikit-learn>=0.22.1 (from raiwidgets)\n",
            "  Downloading scikit_learn-1.0.2-cp310-cp310-manylinux_2_17_x86_64.manylinux2014_x86_64.whl (26.5 MB)\n",
            "\u001b[2K     \u001b[90m━━━━━━━━━━━━━━━━━━━━━━━━━━━━━━━━━━━━━━━━\u001b[0m \u001b[32m26.5/26.5 MB\u001b[0m \u001b[31m49.1 MB/s\u001b[0m eta \u001b[36m0:00:00\u001b[0m\n",
            "\u001b[?25hCollecting semver~=2.13.0 (from responsibleai==0.28.0->raiwidgets)\n",
            "  Downloading semver-2.13.0-py2.py3-none-any.whl (12 kB)\n",
            "Collecting ml-wrappers (from responsibleai==0.28.0->raiwidgets)\n",
            "  Downloading ml_wrappers-0.4.11-py3-none-any.whl (47 kB)\n",
            "\u001b[2K     \u001b[90m━━━━━━━━━━━━━━━━━━━━━━━━━━━━━━━━━━━━━━━━\u001b[0m \u001b[32m47.9/47.9 kB\u001b[0m \u001b[31m5.8 MB/s\u001b[0m eta \u001b[36m0:00:00\u001b[0m\n",
            "\u001b[?25hCollecting networkx<=2.5 (from responsibleai==0.28.0->raiwidgets)\n",
            "  Downloading networkx-2.5-py3-none-any.whl (1.6 MB)\n",
            "\u001b[2K     \u001b[90m━━━━━━━━━━━━━━━━━━━━━━━━━━━━━━━━━━━━━━━━\u001b[0m \u001b[32m1.6/1.6 MB\u001b[0m \u001b[31m80.2 MB/s\u001b[0m eta \u001b[36m0:00:00\u001b[0m\n",
            "\u001b[?25hRequirement already satisfied: ipykernel<=6.8.0 in /usr/local/lib/python3.10/dist-packages (from responsibleai==0.28.0->raiwidgets) (5.5.6)\n",
            "Requirement already satisfied: wheel in /usr/local/lib/python3.10/dist-packages (from lightgbm>=2.0.11->raiwidgets) (0.40.0)\n",
            "Requirement already satisfied: python-dateutil>=2.8.1 in /usr/local/lib/python3.10/dist-packages (from pandas<2.0.0,>=0.25.1->raiwidgets) (2.8.2)\n",
            "Requirement already satisfied: pytz>=2020.1 in /usr/local/lib/python3.10/dist-packages (from pandas<2.0.0,>=0.25.1->raiwidgets) (2022.7.1)\n",
            "Requirement already satisfied: requests in /usr/local/lib/python3.10/dist-packages (from raiutils>=0.4.0->raiwidgets) (2.27.1)\n",
            "Requirement already satisfied: joblib>=0.11 in /usr/local/lib/python3.10/dist-packages (from scikit-learn>=0.22.1->raiwidgets) (1.2.0)\n",
            "Requirement already satisfied: threadpoolctl>=2.0.0 in /usr/local/lib/python3.10/dist-packages (from scikit-learn>=0.22.1->raiwidgets) (3.1.0)\n",
            "Requirement already satisfied: h5py in /usr/local/lib/python3.10/dist-packages (from dice-ml<0.10,>=0.9->responsibleai==0.28.0->raiwidgets) (3.8.0)\n",
            "Requirement already satisfied: tqdm in /usr/local/lib/python3.10/dist-packages (from dice-ml<0.10,>=0.9->responsibleai==0.28.0->raiwidgets) (4.65.0)\n",
            "Collecting sparse (from econml>=0.14.0->responsibleai==0.28.0->raiwidgets)\n",
            "  Downloading sparse-0.14.0-py2.py3-none-any.whl (80 kB)\n",
            "\u001b[2K     \u001b[90m━━━━━━━━━━━━━━━━━━━━━━━━━━━━━━━━━━━━━━━━\u001b[0m \u001b[32m81.0/81.0 kB\u001b[0m \u001b[31m9.5 MB/s\u001b[0m eta \u001b[36m0:00:00\u001b[0m\n",
            "\u001b[?25hCollecting shap<0.42.0,>=0.38.1 (from econml>=0.14.0->responsibleai==0.28.0->raiwidgets)\n",
            "  Downloading shap-0.41.0-cp310-cp310-manylinux_2_12_x86_64.manylinux2010_x86_64.whl (572 kB)\n",
            "\u001b[2K     \u001b[90m━━━━━━━━━━━━━━━━━━━━━━━━━━━━━━━━━━━━━━\u001b[0m \u001b[32m572.6/572.6 kB\u001b[0m \u001b[31m41.8 MB/s\u001b[0m eta \u001b[36m0:00:00\u001b[0m\n",
            "\u001b[?25hCollecting zope.event (from gevent>=21.12.0->rai-core-flask==0.6.0->raiwidgets)\n",
            "  Downloading zope.event-5.0-py3-none-any.whl (6.8 kB)\n",
            "Collecting zope.interface (from gevent>=21.12.0->rai-core-flask==0.6.0->raiwidgets)\n",
            "  Downloading zope.interface-6.0-cp310-cp310-manylinux_2_5_x86_64.manylinux1_x86_64.manylinux_2_17_x86_64.manylinux2014_x86_64.whl (246 kB)\n",
            "\u001b[2K     \u001b[90m━━━━━━━━━━━━━━━━━━━━━━━━━━━━━━━━━━━━━━\u001b[0m \u001b[32m247.0/247.0 kB\u001b[0m \u001b[31m23.7 MB/s\u001b[0m eta \u001b[36m0:00:00\u001b[0m\n",
            "\u001b[?25hRequirement already satisfied: setuptools in /usr/local/lib/python3.10/dist-packages (from gevent>=21.12.0->rai-core-flask==0.6.0->raiwidgets) (67.7.2)\n",
            "Requirement already satisfied: packaging in /usr/local/lib/python3.10/dist-packages (from interpret-community>=0.29.0->responsibleai==0.28.0->raiwidgets) (23.1)\n",
            "Collecting interpret-core[required]<=0.3.2,>=0.1.20 (from interpret-community>=0.29.0->responsibleai==0.28.0->raiwidgets)\n",
            "  Downloading interpret_core-0.3.2-py3-none-any.whl (9.1 MB)\n",
            "\u001b[2K     \u001b[90m━━━━━━━━━━━━━━━━━━━━━━━━━━━━━━━━━━━━━━━━\u001b[0m \u001b[32m9.1/9.1 MB\u001b[0m \u001b[31m88.8 MB/s\u001b[0m eta \u001b[36m0:00:00\u001b[0m\n",
            "\u001b[?25hRequirement already satisfied: ipython-genutils in /usr/local/lib/python3.10/dist-packages (from ipykernel<=6.8.0->responsibleai==0.28.0->raiwidgets) (0.2.0)\n",
            "Requirement already satisfied: traitlets>=4.1.0 in /usr/local/lib/python3.10/dist-packages (from ipykernel<=6.8.0->responsibleai==0.28.0->raiwidgets) (5.7.1)\n",
            "Requirement already satisfied: jupyter-client in /usr/local/lib/python3.10/dist-packages (from ipykernel<=6.8.0->responsibleai==0.28.0->raiwidgets) (6.1.12)\n",
            "Requirement already satisfied: tornado>=4.2 in /usr/local/lib/python3.10/dist-packages (from ipykernel<=6.8.0->responsibleai==0.28.0->raiwidgets) (6.3.1)\n",
            "Collecting jedi>=0.16 (from ipython>=7.31.1->rai-core-flask==0.6.0->raiwidgets)\n",
            "  Downloading jedi-0.18.2-py2.py3-none-any.whl (1.6 MB)\n",
            "\u001b[2K     \u001b[90m━━━━━━━━━━━━━━━━━━━━━━━━━━━━━━━━━━━━━━━━\u001b[0m \u001b[32m1.6/1.6 MB\u001b[0m \u001b[31m45.2 MB/s\u001b[0m eta \u001b[36m0:00:00\u001b[0m\n",
            "\u001b[?25hRequirement already satisfied: decorator in /usr/local/lib/python3.10/dist-packages (from ipython>=7.31.1->rai-core-flask==0.6.0->raiwidgets) (4.4.2)\n",
            "Requirement already satisfied: pickleshare in /usr/local/lib/python3.10/dist-packages (from ipython>=7.31.1->rai-core-flask==0.6.0->raiwidgets) (0.7.5)\n",
            "Requirement already satisfied: prompt-toolkit!=3.0.0,!=3.0.1,<3.1.0,>=2.0.0 in /usr/local/lib/python3.10/dist-packages (from ipython>=7.31.1->rai-core-flask==0.6.0->raiwidgets) (3.0.38)\n",
            "Requirement already satisfied: pygments in /usr/local/lib/python3.10/dist-packages (from ipython>=7.31.1->rai-core-flask==0.6.0->raiwidgets) (2.14.0)\n",
            "Requirement already satisfied: backcall in /usr/local/lib/python3.10/dist-packages (from ipython>=7.31.1->rai-core-flask==0.6.0->raiwidgets) (0.2.0)\n",
            "Requirement already satisfied: matplotlib-inline in /usr/local/lib/python3.10/dist-packages (from ipython>=7.31.1->rai-core-flask==0.6.0->raiwidgets) (0.1.6)\n",
            "Requirement already satisfied: pexpect>4.3 in /usr/local/lib/python3.10/dist-packages (from ipython>=7.31.1->rai-core-flask==0.6.0->raiwidgets) (4.8.0)\n",
            "Collecting llvmlite<0.39,>=0.38.0rc1 (from numba<=0.55.2->responsibleai==0.28.0->raiwidgets)\n",
            "  Downloading llvmlite-0.38.1-cp310-cp310-manylinux_2_17_x86_64.manylinux2014_x86_64.whl (34.5 MB)\n",
            "\u001b[2K     \u001b[90m━━━━━━━━━━━━━━━━━━━━━━━━━━━━━━━━━━━━━━━━\u001b[0m \u001b[32m34.5/34.5 MB\u001b[0m \u001b[31m11.0 MB/s\u001b[0m eta \u001b[36m0:00:00\u001b[0m\n",
            "\u001b[?25hRequirement already satisfied: six>=1.5 in /usr/local/lib/python3.10/dist-packages (from python-dateutil>=2.8.1->pandas<2.0.0,>=0.25.1->raiwidgets) (1.16.0)\n",
            "Requirement already satisfied: patsy>=0.5.2 in /usr/local/lib/python3.10/dist-packages (from statsmodels<0.14.0->responsibleai==0.28.0->raiwidgets) (0.5.3)\n",
            "Requirement already satisfied: Jinja2>=3.0 in /usr/local/lib/python3.10/dist-packages (from Flask->rai-core-flask==0.6.0->raiwidgets) (3.1.2)\n",
            "Requirement already satisfied: click>=8.0 in /usr/local/lib/python3.10/dist-packages (from Flask->rai-core-flask==0.6.0->raiwidgets) (8.1.3)\n",
            "Requirement already satisfied: attrs>=17.4.0 in /usr/local/lib/python3.10/dist-packages (from jsonschema->responsibleai==0.28.0->raiwidgets) (23.1.0)\n",
            "Requirement already satisfied: pyrsistent!=0.17.0,!=0.17.1,!=0.17.2,>=0.14.0 in /usr/local/lib/python3.10/dist-packages (from jsonschema->responsibleai==0.28.0->raiwidgets) (0.19.3)\n",
            "Requirement already satisfied: urllib3<1.27,>=1.21.1 in /usr/local/lib/python3.10/dist-packages (from requests->raiutils>=0.4.0->raiwidgets) (1.26.15)\n",
            "Requirement already satisfied: certifi>=2017.4.17 in /usr/local/lib/python3.10/dist-packages (from requests->raiutils>=0.4.0->raiwidgets) (2022.12.7)\n",
            "Requirement already satisfied: charset-normalizer~=2.0.0 in /usr/local/lib/python3.10/dist-packages (from requests->raiutils>=0.4.0->raiwidgets) (2.0.12)\n",
            "Requirement already satisfied: idna<4,>=2.5 in /usr/local/lib/python3.10/dist-packages (from requests->raiutils>=0.4.0->raiwidgets) (3.4)\n",
            "Requirement already satisfied: parso<0.9.0,>=0.8.0 in /usr/local/lib/python3.10/dist-packages (from jedi>=0.16->ipython>=7.31.1->rai-core-flask==0.6.0->raiwidgets) (0.8.3)\n",
            "Requirement already satisfied: ptyprocess>=0.5 in /usr/local/lib/python3.10/dist-packages (from pexpect>4.3->ipython>=7.31.1->rai-core-flask==0.6.0->raiwidgets) (0.7.0)\n",
            "Requirement already satisfied: wcwidth in /usr/local/lib/python3.10/dist-packages (from prompt-toolkit!=3.0.0,!=3.0.1,<3.1.0,>=2.0.0->ipython>=7.31.1->rai-core-flask==0.6.0->raiwidgets) (0.2.6)\n",
            "Collecting slicer==0.0.7 (from shap<0.42.0,>=0.38.1->econml>=0.14.0->responsibleai==0.28.0->raiwidgets)\n",
            "  Downloading slicer-0.0.7-py3-none-any.whl (14 kB)\n",
            "Requirement already satisfied: cloudpickle in /usr/local/lib/python3.10/dist-packages (from shap<0.42.0,>=0.38.1->econml>=0.14.0->responsibleai==0.28.0->raiwidgets) (2.2.1)\n",
            "Requirement already satisfied: jupyter-core>=4.6.0 in /usr/local/lib/python3.10/dist-packages (from jupyter-client->ipykernel<=6.8.0->responsibleai==0.28.0->raiwidgets) (5.3.0)\n",
            "Requirement already satisfied: pyzmq>=13 in /usr/local/lib/python3.10/dist-packages (from jupyter-client->ipykernel<=6.8.0->responsibleai==0.28.0->raiwidgets) (23.2.1)\n",
            "Requirement already satisfied: platformdirs>=2.5 in /usr/local/lib/python3.10/dist-packages (from jupyter-core>=4.6.0->jupyter-client->ipykernel<=6.8.0->responsibleai==0.28.0->raiwidgets) (3.3.0)\n",
            "Installing collected packages: interpret-core, zope.interface, zope.event, Werkzeug, slicer, semver, networkx, llvmlite, jedi, scikit-learn, numba, gevent, sparse, shap, raiutils, ml-wrappers, Flask-Cors, fairlearn, dice-ml, rai-core-flask, interpret-community, erroranalysis, econml, responsibleai, raiwidgets\n",
            "  Attempting uninstall: Werkzeug\n",
            "    Found existing installation: Werkzeug 2.3.0\n",
            "    Uninstalling Werkzeug-2.3.0:\n",
            "      Successfully uninstalled Werkzeug-2.3.0\n",
            "  Attempting uninstall: networkx\n",
            "    Found existing installation: networkx 3.1\n",
            "    Uninstalling networkx-3.1:\n",
            "      Successfully uninstalled networkx-3.1\n",
            "  Attempting uninstall: llvmlite\n",
            "    Found existing installation: llvmlite 0.39.1\n",
            "    Uninstalling llvmlite-0.39.1:\n",
            "      Successfully uninstalled llvmlite-0.39.1\n",
            "  Attempting uninstall: scikit-learn\n",
            "    Found existing installation: scikit-learn 1.2.2\n",
            "    Uninstalling scikit-learn-1.2.2:\n",
            "      Successfully uninstalled scikit-learn-1.2.2\n",
            "  Attempting uninstall: numba\n",
            "    Found existing installation: numba 0.56.4\n",
            "    Uninstalling numba-0.56.4:\n",
            "      Successfully uninstalled numba-0.56.4\n",
            "Successfully installed Flask-Cors-3.0.10 Werkzeug-2.2.3 dice-ml-0.9 econml-0.14.1 erroranalysis-0.4.4 fairlearn-0.8.0 gevent-22.10.2 interpret-community-0.29.0 interpret-core-0.3.2 jedi-0.18.2 llvmlite-0.38.1 ml-wrappers-0.4.11 networkx-2.5 numba-0.55.2 rai-core-flask-0.6.0 raiutils-0.4.0 raiwidgets-0.28.0 responsibleai-0.28.0 scikit-learn-1.0.2 semver-2.13.0 shap-0.41.0 slicer-0.0.7 sparse-0.14.0 zope.event-5.0 zope.interface-6.0\n"
          ]
        }
      ],
      "source": [
        "pip install raiwidgets"
      ]
    },
    {
      "cell_type": "code",
      "source": [
        "#Imoprt Libraries\n",
        "\n",
        "import zipfile\n",
        "from sklearn.pipeline import Pipeline\n",
        "from sklearn.impute import SimpleImputer\n",
        "from sklearn.preprocessing import StandardScaler, OneHotEncoder\n",
        "from sklearn.compose import ColumnTransformer\n",
        "\n",
        "import pandas as pd\n",
        "from lightgbm import LGBMClassifier\n",
        "from raiwidgets import ResponsibleAIDashboard\n",
        "from responsibleai import RAIInsights"
      ],
      "metadata": {
        "id": "B17KcKbVIx2w"
      },
      "execution_count": 6,
      "outputs": []
    },
    {
      "cell_type": "code",
      "source": [
        "from raiutils.dataset import fetch_dataset\n",
        "from sklearn.pipeline import Pipeline\n",
        "from sklearn.impute import SimpleImputer\n",
        "from sklearn.preprocessing import StandardScaler, OneHotEncoder\n",
        "from sklearn.compose import ColumnTransformer\n",
        "\n",
        "def split_label(dataset, target_feature):\n",
        "    X = dataset.drop([target_feature], axis=1)\n",
        "    y = dataset[[target_feature]]\n",
        "    return X, y\n",
        "\n",
        "def create_classification_pipeline(X):\n",
        "    pipe_cfg = {\n",
        "        'num_cols': X.dtypes[X.dtypes == 'int64'].index.values.tolist(),\n",
        "        'cat_cols': X.dtypes[X.dtypes == 'object'].index.values.tolist(),\n",
        "    }\n",
        "    num_pipe = Pipeline([\n",
        "        ('num_imputer', SimpleImputer(strategy='median')),\n",
        "        ('num_scaler', StandardScaler())\n",
        "    ])\n",
        "    cat_pipe = Pipeline([\n",
        "        ('cat_imputer', SimpleImputer(strategy='constant', fill_value='?')),\n",
        "        ('cat_encoder', OneHotEncoder(handle_unknown='ignore', sparse=False))\n",
        "    ])\n",
        "    feat_pipe = ColumnTransformer([\n",
        "        ('num_pipe', num_pipe, pipe_cfg['num_cols']),\n",
        "        ('cat_pipe', cat_pipe, pipe_cfg['cat_cols'])\n",
        "    ])\n",
        "\n",
        "    # Append classifier to preprocessing pipeline.\n",
        "    # Now we have a full prediction pipeline.\n",
        "    pipeline = Pipeline(steps=[('preprocessor', feat_pipe),\n",
        "                               ('model', LGBMClassifier(random_state=0))])\n",
        "\n",
        "    return pipeline\n",
        "\n",
        "outdirname = 'responsibleai.12.28.21'\n",
        "zipfilename = outdirname + '.zip'\n",
        "\n",
        "fetch_dataset('https://publictestdatasets.blob.core.windows.net/data/' + zipfilename, zipfilename)\n",
        "\n",
        "with zipfile.ZipFile(zipfilename, 'r') as unzip:\n",
        "    unzip.extractall('.')\n",
        "\n",
        "target_feature = 'income'\n",
        "categorical_features = ['workclass', 'education', 'marital-status',\n",
        "                        'occupation', 'relationship', 'race', 'gender', 'native-country']\n",
        "\n",
        "\n",
        "train_data = pd.read_csv('adult-train.csv', skipinitialspace=True)\n",
        "test_data = pd.read_csv('adult-test.csv', skipinitialspace=True)\n",
        "\n",
        "X_train_original, y_train = split_label(train_data, target_feature)\n",
        "X_test_original, y_test = split_label(test_data, target_feature)\n",
        "\n",
        "pipeline = create_classification_pipeline(X_train_original)\n",
        "\n",
        "y_train = y_train[target_feature].to_numpy()\n",
        "y_test = y_test[target_feature].to_numpy()\n",
        "\n",
        "\n",
        "# Take 500 samples from the test data\n",
        "test_data_sample = test_data.sample(n=500, random_state=5)"
      ],
      "metadata": {
        "colab": {
          "base_uri": "https://localhost:8080/"
        },
        "id": "KwTRHJzHJGhx",
        "outputId": "bae0b17e-7b53-4648-bc1a-e21c4d7e48f2"
      },
      "execution_count": 4,
      "outputs": [
        {
          "output_type": "stream",
          "name": "stdout",
          "text": [
            "Dataset download attempt 1 of 4\n"
          ]
        }
      ]
    },
    {
      "cell_type": "code",
      "source": [
        "#Training the model\n",
        "model = pipeline.fit(X_train_original, y_train)\n"
      ],
      "metadata": {
        "id": "Xij9B6jGJJ4I"
      },
      "execution_count": 5,
      "outputs": []
    },
    {
      "cell_type": "code",
      "source": [
        "from responsibleai.feature_metadata import FeatureMetadata\n",
        "feature_metadata = FeatureMetadata(categorical_features=categorical_features, dropped_features=[])"
      ],
      "metadata": {
        "id": "JLWVsmtgJYuq"
      },
      "execution_count": 7,
      "outputs": []
    },
    {
      "cell_type": "code",
      "source": [
        "rai_insights = RAIInsights(model, train_data, test_data_sample, target_feature, 'classification',\n",
        "                           feature_metadata=feature_metadata)"
      ],
      "metadata": {
        "id": "pqiePpNnJYxj"
      },
      "execution_count": 8,
      "outputs": []
    },
    {
      "cell_type": "code",
      "source": [
        "# Interpretability\n",
        "rai_insights.explainer.add()\n",
        "# Error Analysis\n",
        "rai_insights.error_analysis.add()\n",
        "# Counterfactuals: accepts total number of counterfactuals to generate, the label that they should have, and a list of\n",
        "                # strings of categorical feature names\n",
        "rai_insights.counterfactual.add(total_CFs=10, desired_class='opposite')"
      ],
      "metadata": {
        "id": "XgFG_TMlJY07"
      },
      "execution_count": 9,
      "outputs": []
    },
    {
      "cell_type": "markdown",
      "source": [
        "Once all the desired components have been loaded, compute insights on the test set."
      ],
      "metadata": {
        "id": "fIiUHeEoJjG_"
      }
    },
    {
      "cell_type": "code",
      "source": [
        "rai_insights.compute()\n"
      ],
      "metadata": {
        "colab": {
          "base_uri": "https://localhost:8080/"
        },
        "id": "rvtb88SUJkO7",
        "outputId": "894dec17-6563-4a97-e239-0a93f79d09b0"
      },
      "execution_count": 10,
      "outputs": [
        {
          "output_type": "stream",
          "name": "stdout",
          "text": [
            "================================================================================\n",
            "Causal Effects\n",
            "Current Status: Generating Causal Effects.\n",
            "Current Status: Finished generating causal effects.\n",
            "Time taken: 0.0 min 0.0024665180000056353 sec\n",
            "================================================================================\n",
            "================================================================================\n",
            "Counterfactual\n",
            "Current Status: Generating 10 counterfactuals for 500 samples\n"
          ]
        },
        {
          "output_type": "stream",
          "name": "stderr",
          "text": [
            "100%|██████████| 500/500 [04:36<00:00,  1.81it/s]\n"
          ]
        },
        {
          "output_type": "stream",
          "name": "stdout",
          "text": [
            "Current Status: Generated 10 counterfactuals for 500 samples.\n",
            "Time taken: 4.0 min 40.448866116999966 sec\n",
            "================================================================================\n",
            "================================================================================\n",
            "Error Analysis\n",
            "Current Status: Generating error analysis reports.\n"
          ]
        },
        {
          "output_type": "stream",
          "name": "stderr",
          "text": [
            "Using categorical_feature in Dataset.\n"
          ]
        },
        {
          "output_type": "stream",
          "name": "stdout",
          "text": [
            "Current Status: Finished generating error analysis reports.\n",
            "Time taken: 0.0 min 0.4964962060000744 sec\n",
            "================================================================================\n",
            "================================================================================\n",
            "Explanations\n",
            "Current Status: Explaining 14 features\n"
          ]
        },
        {
          "output_type": "stream",
          "name": "stderr",
          "text": [
            "categorical_feature keyword has been found in `params` and will be ignored.\n",
            "Please use categorical_feature argument of the Dataset constructor to pass this parameter.\n"
          ]
        },
        {
          "output_type": "stream",
          "name": "stdout",
          "text": [
            "Current Status: Explained 14 features.\n",
            "Time taken: 0.0 min 4.372265276999997 sec\n",
            "================================================================================\n"
          ]
        }
      ]
    },
    {
      "cell_type": "markdown",
      "source": [
        "Compose some cohorts which can be injected into the ResponsibleAIDashboard."
      ],
      "metadata": {
        "id": "txk2ckJgJuUK"
      }
    },
    {
      "cell_type": "code",
      "source": [
        "from raiutils.cohort import Cohort, CohortFilter, CohortFilterMethods\n",
        "\n",
        "# Cohort on age and hours-per-week features in the dataset\n",
        "cohort_filter_age = CohortFilter(\n",
        "    method=CohortFilterMethods.METHOD_LESS,\n",
        "    arg=[65],\n",
        "    column='age')\n",
        "cohort_filter_hours_per_week = CohortFilter(\n",
        "    method=CohortFilterMethods.METHOD_GREATER,\n",
        "    arg=[40],\n",
        "    column='hours-per-week')\n",
        "\n",
        "user_cohort_age_and_hours_per_week = Cohort(name='Cohort Age and Hours-Per-Week')\n",
        "user_cohort_age_and_hours_per_week.add_cohort_filter(cohort_filter_age)\n",
        "user_cohort_age_and_hours_per_week.add_cohort_filter(cohort_filter_hours_per_week)\n",
        "\n",
        "# Cohort on marital-status feature in the dataset\n",
        "cohort_filter_marital_status = CohortFilter(\n",
        "    method=CohortFilterMethods.METHOD_INCLUDES,\n",
        "    arg=[\"Never-married\", \"Divorced\"],\n",
        "    column='marital-status')\n",
        "\n",
        "user_cohort_marital_status = Cohort(name='Cohort Marital-Status')\n",
        "user_cohort_marital_status.add_cohort_filter(cohort_filter_marital_status)\n",
        "\n",
        "# Cohort on index of the row in the dataset\n",
        "cohort_filter_index = CohortFilter(\n",
        "    method=CohortFilterMethods.METHOD_LESS,\n",
        "    arg=[20],\n",
        "    column='Index')\n",
        "\n",
        "user_cohort_index = Cohort(name='Cohort Index')\n",
        "user_cohort_index.add_cohort_filter(cohort_filter_index)\n",
        "\n",
        "# Cohort on predicted target value\n",
        "cohort_filter_predicted_y = CohortFilter(\n",
        "    method=CohortFilterMethods.METHOD_INCLUDES,\n",
        "    arg=['>50K'],\n",
        "    column='Predicted Y')\n",
        "\n",
        "user_cohort_predicted_y = Cohort(name='Cohort Predicted Y')\n",
        "user_cohort_predicted_y.add_cohort_filter(cohort_filter_predicted_y)\n",
        "\n",
        "# Cohort on predicted target value\n",
        "cohort_filter_true_y = CohortFilter(\n",
        "    method=CohortFilterMethods.METHOD_INCLUDES,\n",
        "    arg=['>50K'],\n",
        "    column='True Y')\n",
        "\n",
        "user_cohort_true_y = Cohort(name='Cohort True Y')\n",
        "user_cohort_true_y.add_cohort_filter(cohort_filter_true_y)\n",
        "\n",
        "cohort_list = [user_cohort_age_and_hours_per_week,\n",
        "               user_cohort_marital_status,\n",
        "               user_cohort_index,\n",
        "               user_cohort_predicted_y,\n",
        "               user_cohort_true_y]"
      ],
      "metadata": {
        "id": "H7gZXHkcJyH2"
      },
      "execution_count": 11,
      "outputs": []
    },
    {
      "cell_type": "markdown",
      "source": [
        "Finally, visualize and explore the model insights. Use the resulting widget or follow the link to view this in a new tab."
      ],
      "metadata": {
        "id": "0-TyLUCjK3xI"
      }
    },
    {
      "cell_type": "code",
      "source": [
        "ResponsibleAIDashboard(rai_insights, cohort_list=cohort_list)\n"
      ],
      "metadata": {
        "colab": {
          "base_uri": "https://localhost:8080/"
        },
        "id": "nVQ2t-SbJ8ne",
        "outputId": "eea1e8cb-6512-40cb-e624-96cae66493c8"
      },
      "execution_count": 14,
      "outputs": [
        {
          "output_type": "stream",
          "name": "stdout",
          "text": [
            "ResponsibleAI started at http://localhost:5001\n"
          ]
        },
        {
          "output_type": "execute_result",
          "data": {
            "text/plain": [
              "<raiwidgets.responsibleai_dashboard.ResponsibleAIDashboard at 0x7f31c56fb730>"
            ]
          },
          "metadata": {},
          "execution_count": 14
        }
      ]
    }
  ]
}